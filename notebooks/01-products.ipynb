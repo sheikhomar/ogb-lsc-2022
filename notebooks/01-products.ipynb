{
 "cells": [
  {
   "cell_type": "code",
   "execution_count": 71,
   "id": "f012eeeb-522c-47dd-95c1-3fee46dcc3a7",
   "metadata": {},
   "outputs": [],
   "source": [
    "import numpy as np\n",
    "import scipy as sp\n",
    "import torch\n",
    "\n",
    "from numba import jit\n",
    "\n",
    "from numba import jit\n",
    "\n",
    "\n",
    "from ogb.lsc import MAG240MDataset\n",
    "from ogb.nodeproppred import NodePropPredDataset\n",
    "from tqdm.auto import tqdm\n",
    "\n",
    "from cogdl.data import Graph\n"
   ]
  },
  {
   "cell_type": "code",
   "execution_count": 50,
   "id": "8132b11a-dac3-449f-a9ba-dff8866848f4",
   "metadata": {},
   "outputs": [],
   "source": [
    "\n",
    "\n",
    "@jit(nopython=True, fastmath=True)\n",
    "def random_walk_step(transition_matrix: np.ndarray, energy_vector: np.ndarray) -> np.ndarray:\n",
    "    energy_vector = np.dot(transition_matrix, energy_vector)  # Power method\n",
    "    energy_vector = energy_vector / np.linalg.norm(energy_vector)  # Normalize\n",
    "    return energy_vector\n",
    "\n",
    "\n",
    "@jit(nopython=True, fastmath=True)\n",
    "def embed_point_using_random_walk(transition_matrix: np.ndarray, starting_point: int, n_steps: int):\n",
    "    r = np.zeros(transition_matrix.shape[0])\n",
    "    r[starting_point] = 1\n",
    "    for _ in range(n_steps):\n",
    "        r = random_walk_step(transition_matrix, r)\n",
    "    return r\n",
    "\n",
    "\n",
    "@jit(nopython=True, fastmath=True)\n",
    "def compute_point_embeddings(transition_matrix: np.ndarray, point_indices: np.ndarray, n_steps: int, embeddings: np.ndarray):\n",
    "    for point_index in point_indices:\n",
    "        r = np.zeros(transition_matrix.shape[0])\n",
    "        r[point_index] = 1\n",
    "        for _ in range(n_steps):\n",
    "            r = random_walk_step(transition_matrix, r)\n",
    "        embeddings[point_index] = r"
   ]
  },
  {
   "cell_type": "code",
   "execution_count": 9,
   "id": "53cd7c96-be6d-4ef7-962c-33225ce44976",
   "metadata": {},
   "outputs": [],
   "source": [
    "data_set = NodePropPredDataset(name=\"ogbn-products\", root=\"../data\")"
   ]
  },
  {
   "cell_type": "code",
   "execution_count": 11,
   "id": "859a6915-3334-42c7-97e6-0954eb01e38d",
   "metadata": {},
   "outputs": [],
   "source": [
    "splitted_idx = data_set.get_idx_split()"
   ]
  },
  {
   "cell_type": "code",
   "execution_count": 12,
   "id": "706a319b-50eb-4097-84b7-843e629e8ba2",
   "metadata": {},
   "outputs": [],
   "source": [
    "graph, y = data_set[0]"
   ]
  },
  {
   "cell_type": "code",
   "execution_count": 41,
   "id": "7a7d2f5d-93f5-4644-b26a-3c0d339a0513",
   "metadata": {},
   "outputs": [],
   "source": [
    "n_points = y.shape[0]"
   ]
  },
  {
   "cell_type": "code",
   "execution_count": 42,
   "id": "856c73f7-2566-4de1-a042-6215c9a5257e",
   "metadata": {},
   "outputs": [
    {
     "data": {
      "text/plain": [
       "2449029"
      ]
     },
     "execution_count": 42,
     "metadata": {},
     "output_type": "execute_result"
    }
   ],
   "source": [
    "n_points"
   ]
  },
  {
   "cell_type": "code",
   "execution_count": 16,
   "id": "fa742c06-ef08-4572-af49-8c9c08da5aba",
   "metadata": {},
   "outputs": [
    {
     "data": {
      "text/plain": [
       "(2449029, 100)"
      ]
     },
     "execution_count": 16,
     "metadata": {},
     "output_type": "execute_result"
    }
   ],
   "source": [
    "graph[\"node_feat\"].shape"
   ]
  },
  {
   "cell_type": "code",
   "execution_count": 37,
   "id": "179c5a80-ce1e-4a88-a96f-a4f124f132de",
   "metadata": {},
   "outputs": [],
   "source": [
    "row_indices, col_indices = graph[\"edge_index\"][0], graph[\"edge_index\"][1]\n"
   ]
  },
  {
   "cell_type": "code",
   "execution_count": 36,
   "id": "a2228aed-ee03-4e23-bb17-d9721fa7e76d",
   "metadata": {},
   "outputs": [
    {
     "data": {
      "text/plain": [
       "(123718280,)"
      ]
     },
     "execution_count": 36,
     "metadata": {},
     "output_type": "execute_result"
    }
   ],
   "source": []
  },
  {
   "cell_type": "code",
   "execution_count": 58,
   "id": "61863a7a-20d2-4e97-a742-de4eb45ecb85",
   "metadata": {},
   "outputs": [],
   "source": [
    "entry_vals = np.ones_like(row)\n",
    "adj_mat = sp.sparse.csr_matrix((entry_vals, (row_indices, col_indices)), shape=(n_points, n_points), dtype=\"float64\")"
   ]
  },
  {
   "cell_type": "code",
   "execution_count": 59,
   "id": "ac204e3f-1c5c-4614-b37e-4c3888e85407",
   "metadata": {},
   "outputs": [
    {
     "data": {
      "text/plain": [
       "array([0., 2.])"
      ]
     },
     "execution_count": 59,
     "metadata": {},
     "output_type": "execute_result"
    }
   ],
   "source": [
    "np.unique(adj_mat.diagonal())"
   ]
  },
  {
   "cell_type": "code",
   "execution_count": 60,
   "id": "45da63e0-7678-441f-99e5-fc69097ea717",
   "metadata": {},
   "outputs": [
    {
     "data": {
      "text/plain": [
       "<2449029x2449029 sparse matrix of type '<class 'numpy.float64'>'\n",
       "\twith 123718152 stored elements in Compressed Sparse Row format>"
      ]
     },
     "execution_count": 60,
     "metadata": {},
     "output_type": "execute_result"
    }
   ],
   "source": [
    "adj_mat"
   ]
  },
  {
   "cell_type": "code",
   "execution_count": 67,
   "id": "a07f0af8-8f16-4b92-b5b5-6b0a8c520209",
   "metadata": {},
   "outputs": [],
   "source": [
    "sums = adj_mat.sum(axis=1, dtype=\"float64\").squeeze()"
   ]
  },
  {
   "cell_type": "code",
   "execution_count": 70,
   "id": "1762dd78-321b-4be7-97cc-237488cfe918",
   "metadata": {},
   "outputs": [
    {
     "data": {
      "text/plain": [
       "(1, 2449029)"
      ]
     },
     "execution_count": 70,
     "metadata": {},
     "output_type": "execute_result"
    }
   ],
   "source": [
    "sums.shape"
   ]
  },
  {
   "cell_type": "code",
   "execution_count": 69,
   "id": "735619fe-d141-47c2-b5a7-5958f09f53a8",
   "metadata": {},
   "outputs": [
    {
     "ename": "ValueError",
     "evalue": "operands could not be broadcast together with shapes (123718152,) (1,2449029) (123718152,) ",
     "output_type": "error",
     "traceback": [
      "\u001b[0;31m---------------------------------------------------------------------------\u001b[0m",
      "\u001b[0;31mValueError\u001b[0m                                Traceback (most recent call last)",
      "Input \u001b[0;32mIn [69]\u001b[0m, in \u001b[0;36m<cell line: 1>\u001b[0;34m()\u001b[0m\n\u001b[0;32m----> 1\u001b[0m adj_mat\u001b[38;5;241m.\u001b[39mdata \u001b[38;5;241m/\u001b[39m\u001b[38;5;241m=\u001b[39m sums\n",
      "\u001b[0;31mValueError\u001b[0m: operands could not be broadcast together with shapes (123718152,) (1,2449029) (123718152,) "
     ]
    }
   ],
   "source": [
    "adj_mat.data /= sums"
   ]
  },
  {
   "cell_type": "code",
   "execution_count": null,
   "id": "2e94229a-c867-4eb9-984d-e6773fcc41bb",
   "metadata": {},
   "outputs": [],
   "source": [
    "transition_matrix = (S / S.sum(axis=1).reshape(-1, 1)).T"
   ]
  },
  {
   "cell_type": "code",
   "execution_count": null,
   "id": "8b30c862-5343-4c2a-809c-6cfbde1df776",
   "metadata": {},
   "outputs": [],
   "source": []
  },
  {
   "cell_type": "code",
   "execution_count": null,
   "id": "cad187fd-50b7-42ed-b703-d810a709e2f9",
   "metadata": {},
   "outputs": [],
   "source": []
  },
  {
   "cell_type": "code",
   "execution_count": 30,
   "id": "501bd02f-1874-4c6c-bbb6-7785a2026781",
   "metadata": {},
   "outputs": [
    {
     "data": {
      "text/plain": [
       "(2, 123718280)"
      ]
     },
     "execution_count": 30,
     "metadata": {},
     "output_type": "execute_result"
    }
   ],
   "source": [
    "np.stack([row, col], axis=0)"
   ]
  },
  {
   "cell_type": "code",
   "execution_count": 23,
   "id": "f0b8a5e2-f4ba-43a0-90a3-1603f0d31930",
   "metadata": {},
   "outputs": [
    {
     "data": {
      "text/plain": [
       "2449028"
      ]
     },
     "execution_count": 23,
     "metadata": {},
     "output_type": "execute_result"
    }
   ],
   "source": [
    "np.max(row)"
   ]
  },
  {
   "cell_type": "code",
   "execution_count": 24,
   "id": "b0d5caa1-4ea1-4447-a949-500c0909ff3d",
   "metadata": {},
   "outputs": [
    {
     "data": {
      "text/plain": [
       "2449028"
      ]
     },
     "execution_count": 24,
     "metadata": {},
     "output_type": "execute_result"
    }
   ],
   "source": [
    "np.max(col)"
   ]
  },
  {
   "cell_type": "code",
   "execution_count": 26,
   "id": "06d74fa2-2439-4a00-b1d7-008f3ddaf83a",
   "metadata": {},
   "outputs": [],
   "source": [
    "edge_index = torch.stack([torch.from_numpy(row), torch.from_numpy(col)], dim=0)"
   ]
  },
  {
   "cell_type": "code",
   "execution_count": 27,
   "id": "ee8169d3-9c0a-40ce-a4c3-aceb16192647",
   "metadata": {},
   "outputs": [
    {
     "data": {
      "text/plain": [
       "torch.Size([2, 123718280])"
      ]
     },
     "execution_count": 27,
     "metadata": {},
     "output_type": "execute_result"
    }
   ],
   "source": [
    "edge_index.shape"
   ]
  },
  {
   "cell_type": "code",
   "execution_count": 28,
   "id": "2debe65b-e0b2-449d-97cb-c96781b149de",
   "metadata": {},
   "outputs": [
    {
     "data": {
      "text/plain": [
       "tensor([[      0,  152857,       0,  ..., 2449028,   53324, 2449028],\n",
       "        [ 152857,       0,   32104,  ...,  162836, 2449028,   53324]])"
      ]
     },
     "execution_count": 28,
     "metadata": {},
     "output_type": "execute_result"
    }
   ],
   "source": [
    "edge_index"
   ]
  },
  {
   "cell_type": "code",
   "execution_count": null,
   "id": "df9e0e21-6ebb-4d52-a2b1-8fa282f7f018",
   "metadata": {},
   "outputs": [],
   "source": []
  }
 ],
 "metadata": {
  "kernelspec": {
   "display_name": "Python 3 (ipykernel)",
   "language": "python",
   "name": "python3"
  },
  "language_info": {
   "codemirror_mode": {
    "name": "ipython",
    "version": 3
   },
   "file_extension": ".py",
   "mimetype": "text/x-python",
   "name": "python",
   "nbconvert_exporter": "python",
   "pygments_lexer": "ipython3",
   "version": "3.8.10"
  }
 },
 "nbformat": 4,
 "nbformat_minor": 5
}
